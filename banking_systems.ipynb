{
 "cells": [
  {
   "cell_type": "code",
   "execution_count": 5,
   "id": "de2e7034-da0b-4682-b6d1-6343ec0527a8",
   "metadata": {},
   "outputs": [],
   "source": [
    "\n",
    "\n",
    "from abc import ABC, abstractmethod\n",
    "\n",
    "class BankAccount(ABC):\n",
    "    def __init__(self, owner, account_number, balance=0):\n",
    "        self.__owner = owner\n",
    "        self.__account_number = account_number\n",
    "        self.__balance = balance\n",
    "\n",
    "    @abstractmethod\n",
    "    def withdraw(self, amount):\n",
    "        pass\n",
    "\n",
    "    @abstractmethod\n",
    "    def deposit(self, amount):\n",
    "        pass\n",
    "\n",
    "    def _set_balance(self, amount):\n",
    "        self.__balance = amount\n",
    "\n",
    "    def _get_balance(self):\n",
    "        return self.__balance\n",
    "\n",
    "    def _get_owner(self):\n",
    "        return self.__owner\n",
    "\n",
    "    def _get_account_number(self):\n",
    "        return self.__account_number\n",
    "\n",
    "    def get_account_details(self):\n",
    "        return f\"Account holder - {self._get_owner()}, Account Number - {self._get_account_number()}, Bank Balance - {self._get_balance()}\"\n",
    "\n",
    "class SavingAccount(BankAccount):\n",
    "    def __init__(self, owner, account_number, balance=0, interest_rate=0.1):\n",
    "        super().__init__(owner, account_number, balance)\n",
    "        self.__interest_rate = interest_rate\n",
    "\n",
    "    def deposit(self, amount):\n",
    "        if amount > 0:\n",
    "            new_balance = self._get_balance() + amount\n",
    "            self._set_balance(new_balance)\n",
    "            print(f\"{amount} is deposited.\")\n",
    "        else:\n",
    "            print(\"Negative amount cannot be added.\")\n",
    "\n",
    "    def withdraw(self, amount):\n",
    "        if amount > 0 and amount <= self._get_balance():\n",
    "            new_balance = self._get_balance() - amount\n",
    "            self._set_balance(new_balance)\n",
    "            print(f\"{amount} has been withdrawn.\")\n",
    "        else:\n",
    "            print(\"Negative amount cannot be withdrawn.\")\n",
    "\n",
    "    def apply_interest(self):\n",
    "        interest_added = self._get_balance() * self.__interest_rate\n",
    "        self._set_balance(self._get_balance() + interest_added)\n",
    "        print(f\"Interest applied. New balance is {self._get_balance()}\")\n",
    "\n",
    "    def get_account_details(self):\n",
    "        return f\"Account holder - {self._get_owner()}, Account Number - {self._get_account_number()}, Bank Balance - {self._get_balance()}, Interest Rate - {self.__interest_rate}\"\n",
    "\n",
    "class CheckingAccount(BankAccount):\n",
    "    def __init__(self, owner, account_number, balance=0, overdraft_limit=100000):\n",
    "        super().__init__(owner, account_number, balance)\n",
    "        self.__overdraft_limit = overdraft_limit\n",
    "\n",
    "    def deposit(self, amount):\n",
    "        if amount > 0:\n",
    "            new_balance = self._get_balance() + amount\n",
    "            self._set_balance(new_balance)\n",
    "            print(f\"{amount} is deposited.\")\n",
    "        else:\n",
    "            print(\"Negative amount cannot be added.\")\n",
    "\n",
    "    def withdraw(self, amount):\n",
    "        if amount > 0 and amount <= self._get_balance() + self.__overdraft_limit:\n",
    "            if amount > self._get_balance():\n",
    "                self.__overdraft_limit -= (amount - self._get_balance())\n",
    "                self._set_balance(0)\n",
    "            else:\n",
    "                new_balance = self._get_balance() - amount\n",
    "                self._set_balance(new_balance)\n",
    "            print(f\"{amount} has been withdrawn.\")\n",
    "        else:\n",
    "            print(\"Negative amount cannot be withdrawn.\")\n",
    "\n",
    "    def get_account_details(self):\n",
    "        return f\"Account holder - {self._get_owner()}, Account Number - {self._get_account_number()}, Bank Balance - {self._get_balance()}, OD Limit - {self.__overdraft_limit}\"\n"
   ]
  },
  {
   "cell_type": "code",
   "execution_count": 3,
   "id": "d7801cb4-2e76-4eaa-9718-0084d8b9c791",
   "metadata": {},
   "outputs": [],
   "source": []
  },
  {
   "cell_type": "code",
   "execution_count": 6,
   "id": "c9bfb1e6-d782-486f-b466-912c0c24b968",
   "metadata": {},
   "outputs": [],
   "source": [
    "shivani_saving_account = SavingAccount(\"Shivani\", 7548865423)"
   ]
  },
  {
   "cell_type": "code",
   "execution_count": 7,
   "id": "5a5a022b-c9d0-4cc4-a62b-cf9367a84064",
   "metadata": {},
   "outputs": [
    {
     "data": {
      "text/plain": [
       "'Account holder - Shivani, Account Number - 7548865423, Bank Balance - 0, Interest Rate - 0.1'"
      ]
     },
     "execution_count": 7,
     "metadata": {},
     "output_type": "execute_result"
    }
   ],
   "source": [
    "shivani_saving_account.get_account_details()"
   ]
  },
  {
   "cell_type": "code",
   "execution_count": 9,
   "id": "49af5ea1-d588-4baa-88cf-e1ae8ff51101",
   "metadata": {},
   "outputs": [
    {
     "name": "stdout",
     "output_type": "stream",
     "text": [
      "50000 is deposited.\n"
     ]
    }
   ],
   "source": [
    "shivani_saving_account.deposit(50000)"
   ]
  },
  {
   "cell_type": "code",
   "execution_count": 10,
   "id": "69454ed5-76bc-4aea-b3bb-eb738f229a95",
   "metadata": {},
   "outputs": [
    {
     "data": {
      "text/plain": [
       "'Account holder - Shivani, Account Number - 7548865423, Bank Balance - 50000, Interest Rate - 0.1'"
      ]
     },
     "execution_count": 10,
     "metadata": {},
     "output_type": "execute_result"
    }
   ],
   "source": [
    "shivani_saving_account.get_account_details()"
   ]
  },
  {
   "cell_type": "code",
   "execution_count": 11,
   "id": "2e7a7c43-affd-413e-baf3-99bea71242f9",
   "metadata": {},
   "outputs": [
    {
     "name": "stdout",
     "output_type": "stream",
     "text": [
      "30000 has been withdrawn.\n"
     ]
    }
   ],
   "source": [
    "shivani_saving_account.withdraw(30000)"
   ]
  },
  {
   "cell_type": "code",
   "execution_count": 12,
   "id": "d5962178-5f2a-4572-88b2-c3c965371fe2",
   "metadata": {},
   "outputs": [
    {
     "data": {
      "text/plain": [
       "'Account holder - Shivani, Account Number - 7548865423, Bank Balance - 20000, Interest Rate - 0.1'"
      ]
     },
     "execution_count": 12,
     "metadata": {},
     "output_type": "execute_result"
    }
   ],
   "source": [
    "shivani_saving_account.get_account_details()"
   ]
  },
  {
   "cell_type": "code",
   "execution_count": 13,
   "id": "5ba6f548-8843-4ab3-80c1-732d5e3c2c39",
   "metadata": {},
   "outputs": [],
   "source": [
    "raushani_checking_account = CheckingAccount(\"Raushani\", 546987561236)"
   ]
  },
  {
   "cell_type": "code",
   "execution_count": 14,
   "id": "0e2a9305-cb26-4d5c-9272-80a54e7bc589",
   "metadata": {},
   "outputs": [
    {
     "data": {
      "text/plain": [
       "'Account holder - Raushani, Account Number - 546987561236, Bank Balance - 0, OD Limit - 100000'"
      ]
     },
     "execution_count": 14,
     "metadata": {},
     "output_type": "execute_result"
    }
   ],
   "source": [
    "raushani_checking_account.get_account_details()"
   ]
  },
  {
   "cell_type": "code",
   "execution_count": 15,
   "id": "dc4c319d-9cb5-42e6-9dbb-68629e0d65ba",
   "metadata": {},
   "outputs": [
    {
     "name": "stdout",
     "output_type": "stream",
     "text": [
      "75000 is deposited.\n"
     ]
    }
   ],
   "source": [
    "raushani_checking_account.deposit(75000)"
   ]
  },
  {
   "cell_type": "code",
   "execution_count": 16,
   "id": "88c4b33c-b4c0-463c-ab25-583383d2ced0",
   "metadata": {},
   "outputs": [
    {
     "data": {
      "text/plain": [
       "'Account holder - Raushani, Account Number - 546987561236, Bank Balance - 75000, OD Limit - 100000'"
      ]
     },
     "execution_count": 16,
     "metadata": {},
     "output_type": "execute_result"
    }
   ],
   "source": [
    "raushani_checking_account.get_account_details()"
   ]
  },
  {
   "cell_type": "code",
   "execution_count": 17,
   "id": "aa2f86a7-8632-4635-aeff-806388eaf48b",
   "metadata": {},
   "outputs": [
    {
     "name": "stdout",
     "output_type": "stream",
     "text": [
      "50000 has been withdrawn.\n"
     ]
    }
   ],
   "source": [
    "raushani_checking_account.withdraw(50000)"
   ]
  },
  {
   "cell_type": "code",
   "execution_count": 18,
   "id": "d6fd3cf1-7379-405e-9dc1-c1b1e76db430",
   "metadata": {},
   "outputs": [
    {
     "data": {
      "text/plain": [
       "'Account holder - Raushani, Account Number - 546987561236, Bank Balance - 25000, OD Limit - 100000'"
      ]
     },
     "execution_count": 18,
     "metadata": {},
     "output_type": "execute_result"
    }
   ],
   "source": [
    "raushani_checking_account.get_account_details()"
   ]
  },
  {
   "cell_type": "code",
   "execution_count": 19,
   "id": "b162608c-6c1b-4704-85bd-7881d1fcb912",
   "metadata": {},
   "outputs": [
    {
     "name": "stdout",
     "output_type": "stream",
     "text": [
      "75000 has been withdrawn.\n"
     ]
    }
   ],
   "source": [
    "raushani_checking_account.withdraw(75000)"
   ]
  },
  {
   "cell_type": "code",
   "execution_count": 20,
   "id": "93d68b36-a1da-456f-ae59-33884be2f709",
   "metadata": {},
   "outputs": [
    {
     "data": {
      "text/plain": [
       "'Account holder - Raushani, Account Number - 546987561236, Bank Balance - 0, OD Limit - 50000'"
      ]
     },
     "execution_count": 20,
     "metadata": {},
     "output_type": "execute_result"
    }
   ],
   "source": [
    "raushani_checking_account.get_account_details()"
   ]
  },
  {
   "cell_type": "code",
   "execution_count": null,
   "id": "9a8f22b4-84a4-407b-9e68-75ee78f321da",
   "metadata": {},
   "outputs": [],
   "source": []
  }
 ],
 "metadata": {
  "kernelspec": {
   "display_name": "Python 3 (ipykernel)",
   "language": "python",
   "name": "python3"
  },
  "language_info": {
   "codemirror_mode": {
    "name": "ipython",
    "version": 3
   },
   "file_extension": ".py",
   "mimetype": "text/x-python",
   "name": "python",
   "nbconvert_exporter": "python",
   "pygments_lexer": "ipython3",
   "version": "3.12.4"
  }
 },
 "nbformat": 4,
 "nbformat_minor": 5
}
